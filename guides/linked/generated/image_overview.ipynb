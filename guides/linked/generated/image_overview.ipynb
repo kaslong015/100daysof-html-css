{
  "cells": [
    {
      "cell_type": "code",
      "execution_count": 6,
      "metadata": {
        "id": "-Gd_l-rHVUf6"
      },
      "outputs": [],
      "source": [
        "#@title Copyright 2021 The Earth Engine Community Authors { display-mode: \"form\" }\n",
        "#\n",
        "# Licensed under the Apache License, Version 2.0 (the \"License\");\n",
        "# you may not use this file except in compliance with the License.\n",
        "# You may obtain a copy of the License at\n",
        "#\n",
        "# https://www.apache.org/licenses/LICENSE-2.0\n",
        "#\n",
        "# Unless required by applicable law or agreed to in writing, software\n",
        "# distributed under the License is distributed on an \"AS IS\" BASIS,\n",
        "# WITHOUT WARRANTIES OR CONDITIONS OF ANY KIND, either express or implied.\n",
        "# See the License for the specific language governing permissions and\n",
        "# limitations under the License."
      ]
    },
    {
      "cell_type": "markdown",
      "metadata": {
        "id": "JA-s_CNlVUf9"
      },
      "source": [
        "# Image Overview\n",
        "\n"
      ]
    },
    {
      "cell_type": "markdown",
      "metadata": {
        "id": "O41j-v8tVUf-"
      },
      "source": [
        "As mentioned in the [Get Started](https://developers.google.com/earth-engine/guides/getstarted#earth-engine-data-structures) doc, raster data are represented as `Image` objects in Earth Engine. Images are composed of one or more bands and each band has its own name, data type, scale, mask and projection. Each image has metadata stored as a set of properties."
      ]
    },
    {
      "cell_type": "markdown",
      "metadata": {
        "id": "Gqi3i0fGVUf-"
      },
      "source": [
        "## Setup"
      ]
    },
    {
      "cell_type": "markdown",
      "metadata": {
        "id": "ia5ZWUGRVUf_"
      },
      "source": [
        "### Earth Engine setup"
      ]
    },
    {
      "cell_type": "code",
      "execution_count": 4,
      "metadata": {
        "id": "-zUBPPULVUf_",
        "outputId": "c059d188-17b0-4c10-f05b-c5c5a4236851",
        "colab": {
          "base_uri": "https://localhost:8080/",
          "height": 321
        }
      },
      "outputs": [
        {
          "output_type": "error",
          "ename": "EEException",
          "evalue": "ee.Initialize: no project found. Call with project= or see http://goo.gle/ee-auth.",
          "traceback": [
            "\u001b[0;31m---------------------------------------------------------------------------\u001b[0m",
            "\u001b[0;31mEEException\u001b[0m                               Traceback (most recent call last)",
            "\u001b[0;32m<ipython-input-4-9f6ffe164bd0>\u001b[0m in \u001b[0;36m<cell line: 0>\u001b[0;34m()\u001b[0m\n\u001b[1;32m      1\u001b[0m \u001b[0;32mimport\u001b[0m \u001b[0mee\u001b[0m\u001b[0;34m\u001b[0m\u001b[0;34m\u001b[0m\u001b[0m\n\u001b[1;32m      2\u001b[0m \u001b[0mee\u001b[0m\u001b[0;34m.\u001b[0m\u001b[0mAuthenticate\u001b[0m\u001b[0;34m(\u001b[0m\u001b[0;34m)\u001b[0m\u001b[0;34m\u001b[0m\u001b[0;34m\u001b[0m\u001b[0m\n\u001b[0;32m----> 3\u001b[0;31m \u001b[0mee\u001b[0m\u001b[0;34m.\u001b[0m\u001b[0mInitialize\u001b[0m\u001b[0;34m(\u001b[0m\u001b[0;34m)\u001b[0m\u001b[0;34m\u001b[0m\u001b[0;34m\u001b[0m\u001b[0m\n\u001b[0m",
            "\u001b[0;32m/usr/local/lib/python3.11/dist-packages/ee/_utils.py\u001b[0m in \u001b[0;36mwrapper\u001b[0;34m(*args, **kwargs)\u001b[0m\n\u001b[1;32m     36\u001b[0m           \u001b[0;32mif\u001b[0m \u001b[0mnew_key\u001b[0m \u001b[0;32mnot\u001b[0m \u001b[0;32min\u001b[0m \u001b[0mkwargs\u001b[0m\u001b[0;34m:\u001b[0m\u001b[0;34m\u001b[0m\u001b[0;34m\u001b[0m\u001b[0m\n\u001b[1;32m     37\u001b[0m             \u001b[0mkwargs\u001b[0m\u001b[0;34m[\u001b[0m\u001b[0mnew_key\u001b[0m\u001b[0;34m]\u001b[0m \u001b[0;34m=\u001b[0m \u001b[0mold_key_val\u001b[0m\u001b[0;34m\u001b[0m\u001b[0;34m\u001b[0m\u001b[0m\n\u001b[0;32m---> 38\u001b[0;31m       \u001b[0;32mreturn\u001b[0m \u001b[0mfunc\u001b[0m\u001b[0;34m(\u001b[0m\u001b[0;34m*\u001b[0m\u001b[0margs\u001b[0m\u001b[0;34m,\u001b[0m \u001b[0;34m**\u001b[0m\u001b[0mkwargs\u001b[0m\u001b[0;34m)\u001b[0m\u001b[0;34m\u001b[0m\u001b[0;34m\u001b[0m\u001b[0m\n\u001b[0m\u001b[1;32m     39\u001b[0m \u001b[0;34m\u001b[0m\u001b[0m\n\u001b[1;32m     40\u001b[0m     \u001b[0;32mreturn\u001b[0m \u001b[0mwrapper\u001b[0m\u001b[0;34m\u001b[0m\u001b[0;34m\u001b[0m\u001b[0m\n",
            "\u001b[0;32m/usr/local/lib/python3.11/dist-packages/ee/__init__.py\u001b[0m in \u001b[0;36mInitialize\u001b[0;34m(credentials, url, cloud_api_key, http_transport, project)\u001b[0m\n\u001b[1;32m    198\u001b[0m   \u001b[0;31m# their containing project by default.\u001b[0m\u001b[0;34m\u001b[0m\u001b[0;34m\u001b[0m\u001b[0m\n\u001b[1;32m    199\u001b[0m   \u001b[0;32mif\u001b[0m \u001b[0;32mnot\u001b[0m \u001b[0mis_valid_project\u001b[0m \u001b[0;32mand\u001b[0m \u001b[0;32mnot\u001b[0m \u001b[0mis_sa_creds\u001b[0m\u001b[0;34m:\u001b[0m\u001b[0;34m\u001b[0m\u001b[0;34m\u001b[0m\u001b[0m\n\u001b[0;32m--> 200\u001b[0;31m     \u001b[0;32mraise\u001b[0m \u001b[0mEEException\u001b[0m\u001b[0;34m(\u001b[0m\u001b[0mNO_PROJECT_EXCEPTION\u001b[0m\u001b[0;34m)\u001b[0m\u001b[0;34m\u001b[0m\u001b[0;34m\u001b[0m\u001b[0m\n\u001b[0m\u001b[1;32m    201\u001b[0m \u001b[0;34m\u001b[0m\u001b[0m\n\u001b[1;32m    202\u001b[0m   data.initialize(\n",
            "\u001b[0;31mEEException\u001b[0m: ee.Initialize: no project found. Call with project= or see http://goo.gle/ee-auth."
          ]
        }
      ],
      "source": [
        "import ee\n",
        "ee.Authenticate(project='gee-office')\n",
        "ee.Initialize()"
      ]
    },
    {
      "cell_type": "markdown",
      "metadata": {
        "id": "2LTyPheMVUf_"
      },
      "source": [
        "### Import `geemap`"
      ]
    },
    {
      "cell_type": "code",
      "execution_count": null,
      "metadata": {
        "id": "bvJ34lzHVUgA"
      },
      "outputs": [],
      "source": [
        "import geemap.core as geemap"
      ]
    },
    {
      "cell_type": "markdown",
      "metadata": {
        "id": "aLYq1eqkVUgA"
      },
      "source": [
        "##  `ee.Image` constructor\n",
        "\n",
        "Images can be loaded by pasting an Earth Engine asset ID into the `ee.Image` constructor. You can find image IDs in the [data catalog](https://developers.google.com/earth-engine/datasets). For example, to load [JAXA's ALOS DSM](https://developers.google.com/earth-engine/datasets/catalog/JAXA_ALOS_AW3D30_V3_2):"
      ]
    },
    {
      "cell_type": "code",
      "execution_count": null,
      "metadata": {
        "id": "YWhJrpxgVUgA"
      },
      "outputs": [],
      "source": [
        "loaded_image = ee.Image('JAXA/ALOS/AW3D30/V2_2')"
      ]
    },
    {
      "cell_type": "markdown",
      "metadata": {
        "id": "Prd54LjCVUgA"
      },
      "source": [
        "You can also use a personal [asset ID](https://developers.google.com/earth-engine/guides/manage_assets#asset_id) as the argument to the `ee.Image`constructor."
      ]
    },
    {
      "cell_type": "markdown",
      "metadata": {
        "id": "xfh5r_7sVUgB"
      },
      "source": [
        "##  Get an `ee.Image` from an `ee.ImageCollection`\n",
        "\n",
        "The standard way to get an image out of a collection is to filter the collection, with filters in order of decreasing specificity. For example, to get an image out of the [Sentinel-2 surface reflectance collection](https://developers.google.com/earth-engine/datasets/catalog/COPERNICUS_S2_SR):"
      ]
    },
    {
      "cell_type": "code",
      "execution_count": null,
      "metadata": {
        "id": "d3lPIvHDVUgB"
      },
      "outputs": [],
      "source": [
        "first = (\n",
        "    ee.ImageCollection('COPERNICUS/S2_SR')\n",
        "    .filterBounds(ee.Geometry.Point(-70.48, 43.3631))\n",
        "    .filterDate('2019-01-01', '2019-12-31')\n",
        "    .sort('CLOUDY_PIXEL_PERCENTAGE')\n",
        "    .first()\n",
        ")\n",
        "\n",
        "# Define a map centered on southern Maine.\n",
        "m = geemap.Map(center=[43.7516, -70.8155], zoom=11)\n",
        "\n",
        "# Add the image layer to the map and display it.\n",
        "m.add_layer(\n",
        "    first, {'bands': ['B4', 'B3', 'B2'], 'min': 0, 'max': 2000}, 'first'\n",
        ")\n",
        "display(m)"
      ]
    },
    {
      "cell_type": "markdown",
      "metadata": {
        "id": "9nc_wvIhVUgB"
      },
      "source": [
        "Note that the sort is _after_ the filters. Avoid sorting the entire collection."
      ]
    },
    {
      "cell_type": "markdown",
      "metadata": {
        "id": "UVHbjiTNVUgB"
      },
      "source": [
        "##  Images from Cloud GeoTIFFs\n",
        "\n",
        "You can use `ee.Image.loadGeoTIFF()` to load images from [Cloud Optimized GeoTIFFs](https://github.com/cogeotiff/cog-spec/blob/master/spec.md) in [Google Cloud Storage](https://cloud.google.com/storage). For example, the [public Landsat dataset](https://console.cloud.google.com/marketplace/details/usgs-public-data/landast) hosted in Google Cloud contains [this GeoTIFF](https://console.cloud.google.com/storage/browser/_details/gcp-public-data-landsat/LC08/01/001/002/LC08_L1GT_001002_20160817_20170322_01_T2/LC08_L1GT_001002_20160817_20170322_01_T2_B5.TIF), corresponding to band 5 from a Landsat 8 scene. You can load this image from Cloud Storage using `ee.Image.loadGeoTIFF()`:"
      ]
    },
    {
      "cell_type": "code",
      "execution_count": null,
      "metadata": {
        "id": "Sdn0vPQUVUgB"
      },
      "outputs": [],
      "source": [
        "uri = (\n",
        "    'gs://gcp-public-data-landsat/LC08/01/001/002/'\n",
        "    + 'LC08_L1GT_001002_20160817_20170322_01_T2/'\n",
        "    + 'LC08_L1GT_001002_20160817_20170322_01_T2_B5.TIF'\n",
        ")\n",
        "cloud_image = ee.Image.loadGeoTIFF(uri)\n",
        "display(cloud_image)"
      ]
    },
    {
      "cell_type": "markdown",
      "metadata": {
        "id": "nbyLLDO6VUgB"
      },
      "source": [
        "Note that if you want to reload a Cloud Optimized GeoTIFF that you [export from Earth Engine to Cloud Storage](https://developers.google.com/earth-engine/guides/exporting#to-cloud-storage), when you do the export, set `cloudOptimized` to **true** as described [here](https://developers.google.com/earth-engine/guides/exporting#configuration-parameters)."
      ]
    },
    {
      "cell_type": "markdown",
      "metadata": {
        "id": "a2nKKqebVUgB"
      },
      "source": [
        "##  Constant images\n",
        "\n",
        "In addition to loading images by ID, you can also create images from constants, lists or other suitable Earth Engine objects. The following illustrates methods for creating images, getting band subsets, and manipulating bands:"
      ]
    },
    {
      "cell_type": "code",
      "execution_count": 1,
      "metadata": {
        "id": "b_paragzVUgB",
        "outputId": "b46a247b-384c-4945-8b77-7ea438ef1141",
        "colab": {
          "base_uri": "https://localhost:8080/",
          "height": 211
        }
      },
      "outputs": [
        {
          "output_type": "error",
          "ename": "NameError",
          "evalue": "name 'ee' is not defined",
          "traceback": [
            "\u001b[0;31m---------------------------------------------------------------------------\u001b[0m",
            "\u001b[0;31mNameError\u001b[0m                                 Traceback (most recent call last)",
            "\u001b[0;32m<ipython-input-1-cdbbadd40a68>\u001b[0m in \u001b[0;36m<cell line: 0>\u001b[0;34m()\u001b[0m\n\u001b[1;32m      1\u001b[0m \u001b[0;31m# Create a constant image.\u001b[0m\u001b[0;34m\u001b[0m\u001b[0;34m\u001b[0m\u001b[0m\n\u001b[0;32m----> 2\u001b[0;31m \u001b[0mimage_1\u001b[0m \u001b[0;34m=\u001b[0m \u001b[0mee\u001b[0m\u001b[0;34m.\u001b[0m\u001b[0mImage\u001b[0m\u001b[0;34m(\u001b[0m\u001b[0;36m1\u001b[0m\u001b[0;34m)\u001b[0m\u001b[0;34m\u001b[0m\u001b[0;34m\u001b[0m\u001b[0m\n\u001b[0m\u001b[1;32m      3\u001b[0m \u001b[0mdisplay\u001b[0m\u001b[0;34m(\u001b[0m\u001b[0mimage_1\u001b[0m\u001b[0;34m)\u001b[0m\u001b[0;34m\u001b[0m\u001b[0;34m\u001b[0m\u001b[0m\n\u001b[1;32m      4\u001b[0m \u001b[0;34m\u001b[0m\u001b[0m\n\u001b[1;32m      5\u001b[0m \u001b[0;31m# Concatenate two images into one multi-band image.\u001b[0m\u001b[0;34m\u001b[0m\u001b[0;34m\u001b[0m\u001b[0m\n",
            "\u001b[0;31mNameError\u001b[0m: name 'ee' is not defined"
          ]
        }
      ],
      "source": [
        "# Create a constant image.\n",
        "image_1 = ee.Image(1)\n",
        "display(image_1)\n",
        "\n",
        "# Concatenate two images into one multi-band image.\n",
        "image_2 = ee.Image(2)\n",
        "image_3 = ee.Image.cat([image_1, image_2])\n",
        "display(image_3)\n",
        "\n",
        "# Create a multi-band image from a list of constants.\n",
        "multiband = ee.Image([1, 2, 3])\n",
        "display(multiband)\n",
        "\n",
        "# Select and (optionally) rename bands.\n",
        "renamed = multiband.select(\n",
        "    ['constant', 'constant_1', 'constant_2'],  # old names\n",
        "    ['band1', 'band2', 'band3'],  # new names\n",
        ")\n",
        "display(renamed)\n",
        "\n",
        "# Add bands to an image.\n",
        "image_4 = image_3.addBands(ee.Image(42))\n",
        "display(image_4)"
      ]
    }
  ],
  "metadata": {
    "colab": {
      "name": "Image Overview",
      "provenance": []
    },
    "language_info": {
      "name": "python"
    },
    "kernelspec": {
      "name": "python3",
      "display_name": "Python 3"
    }
  },
  "nbformat": 4,
  "nbformat_minor": 0
}